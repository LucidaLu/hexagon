{
 "cells": [
  {
   "cell_type": "code",
   "execution_count": 38,
   "metadata": {},
   "outputs": [],
   "source": [
    "# create dir sol using pathlib\n",
    "# hexagon\n",
    "\n",
    "from pathlib import Path\n",
    "import shutil\n",
    "\n",
    "Path(\"solutions\").mkdir(exist_ok=True)\n",
    "Path(\"testcases\").mkdir(exist_ok=True)"
   ]
  },
  {
   "cell_type": "code",
   "execution_count": 39,
   "metadata": {},
   "outputs": [],
   "source": [
    "# create empty file legend.tex"
   ]
  },
  {
   "cell_type": "code",
   "execution_count": 44,
   "metadata": {},
   "outputs": [],
   "source": [
    "import os\n",
    "\n",
    "Path(\"tmp\").mkdir(exist_ok=True)\n",
    "\n",
    "for f in Path(\"solutions\").iterdir():\n",
    "    f = str(f)\n",
    "    if f.startswith(\"solutions/100\"):\n",
    "        os.system(f\"g++ {f} -std=c++17 -o tmp/exec\")\n",
    "        break"
   ]
  },
  {
   "cell_type": "code",
   "execution_count": 56,
   "metadata": {},
   "outputs": [],
   "source": [
    "with open(\"9-samples-note.tex\", \"r\") as f:\n",
    "    sample_notes = {}\n",
    "    for n in f.read().split(\"%%\"):\n",
    "        if not n.strip():\n",
    "            continue\n",
    "        lines = n.split(\"\\n\")\n",
    "        sample_notes[int(lines[0])] = \"\\n\".join(lines[1:])\n",
    "\n",
    "samples = []\n",
    "for root, dirs, files in os.walk(\"testcases\"):\n",
    "    for f in files:\n",
    "        if f.startswith(\"sample\"):\n",
    "            os.system(f\"tmp/exec < testcases/{f} > tmp/{f}.ans\")\n",
    "            with open(f\"testcases/{f}\", \"r\") as file:\n",
    "                input = file.read()\n",
    "            with open(f\"tmp/{f}.ans\", \"r\") as file:\n",
    "                output = file.read()\n",
    "            no = int(f.replace(\"sample\", \"\"))\n",
    "            if no not in sample_notes:\n",
    "                sample_notes[no] = \"\"\n",
    "            samples.append((input, output, sample_notes[no]))\n",
    "\n",
    "with open(\"generated-samples.tex\", \"w\") as f:\n",
    "    f.write(\"%% this file is auto-generated. Do not edit it directly.\\n\\n\")\n",
    "    for i, s in enumerate(samples):\n",
    "        no = \"样例\" + (\"\" if len(samples) == 1 else r\" {\\rm %s} \" % (str(i + 1)))\n",
    "        input, output, note = s\n",
    "        if input.endswith(\"\\n\"):\n",
    "            input = input[:-1]\n",
    "        if output.endswith(\"\\n\"):\n",
    "            output = output[:-1]\n",
    "\n",
    "        f.write(\n",
    "            r\"\"\"\\subsection[%s]{【%s】}\n",
    "\\begin{minted}[linenos]{text}\n",
    "%s\n",
    "\\end{minted}\n",
    "\n",
    "\\subsection[%s]{【%s】}\n",
    "\\begin{minted}[linenos]{text}\n",
    "%s\n",
    "\\end{minted}\"\"\"\n",
    "            % (\n",
    "                no + \"输入\",\n",
    "                no + \"输入\",\n",
    "                input,\n",
    "                no + \"输出\",\n",
    "                no + \"输出\",\n",
    "                output,\n",
    "            )\n",
    "        )\n",
    "        f.write(\"\\n\")"
   ]
  },
  {
   "cell_type": "code",
   "execution_count": null,
   "metadata": {},
   "outputs": [],
   "source": []
  }
 ],
 "metadata": {
  "kernelspec": {
   "display_name": "q1",
   "language": "python",
   "name": "python3"
  },
  "language_info": {
   "codemirror_mode": {
    "name": "ipython",
    "version": 3
   },
   "file_extension": ".py",
   "mimetype": "text/x-python",
   "name": "python",
   "nbconvert_exporter": "python",
   "pygments_lexer": "ipython3",
   "version": "3.10.14"
  }
 },
 "nbformat": 4,
 "nbformat_minor": 2
}
